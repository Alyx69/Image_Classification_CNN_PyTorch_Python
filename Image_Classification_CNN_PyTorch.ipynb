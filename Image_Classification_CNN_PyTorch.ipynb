{
  "cells": [
    {
      "cell_type": "code",
      "source": [
        "## pip install pillow\n",
        "## pip install torch\n",
        "## pip install torchvision"
      ],
      "metadata": {
        "id": "yCEZgd3jof1d"
      },
      "execution_count": 1,
      "outputs": []
    },
    {
      "cell_type": "code",
      "source": [
        "import numpy as np\n",
        "from PIL import Image\n",
        "\n",
        "import torch\n",
        "import torch.nn as nn\n",
        "import torch.nn.functional as F\n",
        "import torch.optim as optim\n",
        "\n",
        "import torchvision\n",
        "import torchvision.transforms as transforms"
      ],
      "metadata": {
        "id": "i-sVtS2dofyw"
      },
      "execution_count": 2,
      "outputs": []
    },
    {
      "cell_type": "code",
      "source": [
        "transform = transforms.Compose([\n",
        "    transforms.ToTensor(),\n",
        "    transforms.Normalize((0.5, 0.5, 0.5), (0.5, 0.5, 0.5))\n",
        "])\n"
      ],
      "metadata": {
        "id": "VJqTSfcLofwM"
      },
      "execution_count": 3,
      "outputs": []
    },
    {
      "cell_type": "code",
      "source": [
        "train_data = torchvision.datasets.CIFAR10(root='./data', train=True, transform=transform, download=True)\n",
        "test_data = torchvision.datasets.CIFAR10(root='./data', train=False, transform=transform, download=True)\n",
        "\n",
        "train_loader = torch.utils.data.DataLoader(train_data, batch_size=32, shuffle=True, num_workers=2)\n",
        "test_loader = torch.utils.data.DataLoader(test_data, batch_size=32, shuffle=True, num_workers=2)"
      ],
      "metadata": {
        "id": "px1lgY6EpFji"
      },
      "execution_count": null,
      "outputs": []
    },
    {
      "cell_type": "code",
      "source": [
        "image, label = train_data[0]"
      ],
      "metadata": {
        "id": "DDoP2u22pFg-"
      },
      "execution_count": 5,
      "outputs": []
    },
    {
      "cell_type": "code",
      "source": [
        "image.size()"
      ],
      "metadata": {
        "id": "v7dICHYioftc",
        "colab": {
          "base_uri": "https://localhost:8080/"
        },
        "outputId": "69223818-f774-4340-88be-4c81ff07bec6"
      },
      "execution_count": 6,
      "outputs": [
        {
          "output_type": "execute_result",
          "data": {
            "text/plain": [
              "torch.Size([3, 32, 32])"
            ]
          },
          "metadata": {},
          "execution_count": 6
        }
      ]
    },
    {
      "cell_type": "code",
      "source": [
        "class_names = ['plane', 'car', 'bird', 'cat', 'deer', 'dog', 'frog', 'horse', 'ship', 'truck']"
      ],
      "metadata": {
        "id": "_v2pNZyGqWzr"
      },
      "execution_count": 7,
      "outputs": []
    },
    {
      "cell_type": "code",
      "source": [
        "class NeuralNet(nn.Module):\n",
        "\n",
        "  def __init__(self):\n",
        "    super().__init__()\n",
        "\n",
        "    self.conv1 = nn.Conv2d(3, 12, 5)  # (12, 28, 28)\n",
        "    self.pool = nn.MaxPool2d(2, 2)  # (12, 14, 14)\n",
        "    self.conv2 = nn.Conv2d(12, 24, 5)  # (24, 10, 10) --> (24, 5, 5)\n",
        "    self.fc1 = nn.Linear(24 * 5 * 5, 120)\n",
        "    self.fc2 = nn.Linear(120, 84)\n",
        "    self.fc3 = nn.Linear(84, 10)\n",
        "\n",
        "  def forward(self, x):\n",
        "    x = self.pool(F.relu(self.conv1(x)))\n",
        "    x = self.pool(F.relu(self.conv2(x)))\n",
        "    x = torch.flatten(x, 1)  # Flatten starting from dimension 1 (batch dimension is 0)\n",
        "    x = F.relu(self.fc1(x))\n",
        "    x = F.relu(self.fc2(x))\n",
        "    x = self.fc3(x)\n",
        "    return x"
      ],
      "metadata": {
        "id": "HD1G-iBvqWxK"
      },
      "execution_count": 8,
      "outputs": []
    },
    {
      "cell_type": "code",
      "source": [
        "net = NeuralNet()\n",
        "loss_function = nn.CrossEntropyLoss()\n",
        "optimizer = optim.SGD(net.parameters(), lr=0.001, momentum=0.9)"
      ],
      "metadata": {
        "id": "eYh536NVqWuq"
      },
      "execution_count": 9,
      "outputs": []
    },
    {
      "cell_type": "code",
      "source": [
        "for epoch in range(30):\n",
        "  print(f\"Training epoch {epoch + 1} ...\")\n",
        "\n",
        "  running_loss = 0.0\n",
        "  for i, data in enumerate(train_loader):\n",
        "    inputs, labels = data\n",
        "\n",
        "    optimizer.zero_grad()\n",
        "\n",
        "    outputs = net(inputs)\n",
        "    loss = loss_function(outputs, labels)\n",
        "    loss.backward()\n",
        "    optimizer.step()\n",
        "\n",
        "    running_loss += loss.item()\n",
        "\n",
        "  print(f\"Loss: {running_loss / len(train_loader):.4f}\")"
      ],
      "metadata": {
        "id": "1xjZx-eQofq4",
        "colab": {
          "base_uri": "https://localhost:8080/"
        },
        "outputId": "f36dbe11-152e-4292-b8dc-f31c7f5b4ac6"
      },
      "execution_count": 10,
      "outputs": [
        {
          "output_type": "stream",
          "name": "stdout",
          "text": [
            "Training epoch 1 ...\n",
            "Loss: 2.1132\n",
            "Training epoch 2 ...\n",
            "Loss: 1.6898\n",
            "Training epoch 3 ...\n",
            "Loss: 1.5104\n",
            "Training epoch 4 ...\n",
            "Loss: 1.3930\n",
            "Training epoch 5 ...\n",
            "Loss: 1.2982\n",
            "Training epoch 6 ...\n",
            "Loss: 1.2139\n",
            "Training epoch 7 ...\n",
            "Loss: 1.1467\n",
            "Training epoch 8 ...\n",
            "Loss: 1.0845\n",
            "Training epoch 9 ...\n",
            "Loss: 1.0375\n",
            "Training epoch 10 ...\n",
            "Loss: 0.9953\n",
            "Training epoch 11 ...\n",
            "Loss: 0.9514\n",
            "Training epoch 12 ...\n",
            "Loss: 0.9181\n",
            "Training epoch 13 ...\n",
            "Loss: 0.8820\n",
            "Training epoch 14 ...\n",
            "Loss: 0.8502\n",
            "Training epoch 15 ...\n",
            "Loss: 0.8198\n",
            "Training epoch 16 ...\n",
            "Loss: 0.7953\n",
            "Training epoch 17 ...\n",
            "Loss: 0.7645\n",
            "Training epoch 18 ...\n",
            "Loss: 0.7390\n",
            "Training epoch 19 ...\n",
            "Loss: 0.7108\n",
            "Training epoch 20 ...\n",
            "Loss: 0.6873\n",
            "Training epoch 21 ...\n",
            "Loss: 0.6628\n",
            "Training epoch 22 ...\n",
            "Loss: 0.6428\n",
            "Training epoch 23 ...\n",
            "Loss: 0.6176\n",
            "Training epoch 24 ...\n",
            "Loss: 0.5922\n",
            "Training epoch 25 ...\n",
            "Loss: 0.5704\n",
            "Training epoch 26 ...\n",
            "Loss: 0.5517\n",
            "Training epoch 27 ...\n",
            "Loss: 0.5297\n",
            "Training epoch 28 ...\n",
            "Loss: 0.5090\n",
            "Training epoch 29 ...\n",
            "Loss: 0.4839\n",
            "Training epoch 30 ...\n",
            "Loss: 0.4688\n"
          ]
        }
      ]
    },
    {
      "cell_type": "code",
      "source": [
        "torch.save(net.state_dict(), 'trained_net.pth')"
      ],
      "metadata": {
        "id": "gHp1-oYhofoQ"
      },
      "execution_count": 11,
      "outputs": []
    },
    {
      "cell_type": "code",
      "source": [
        "net.load_state_dict(torch.load('trained_net.pth'))"
      ],
      "metadata": {
        "id": "SEnpoAhtoflo"
      },
      "execution_count": null,
      "outputs": []
    },
    {
      "cell_type": "code",
      "source": [
        "correct = 0\n",
        "total = 0\n",
        "\n",
        "net.eval()\n",
        "\n",
        "\n",
        "with torch.no_grad():\n",
        "  for data in test_loader:\n",
        "    images, labels = data\n",
        "    outputs = net(images)\n",
        "    _, predicted = torch.max(outputs, 1)\n",
        "    total += labels.size(0)\n",
        "    correct += (predicted == labels).sum().item()\n",
        "\n",
        "\n",
        "accuracy = 100 * correct / total\n",
        "\n",
        "print(f\"Accuracy: {accuracy}%\")"
      ],
      "metadata": {
        "id": "8CV0xFMrrgyd",
        "colab": {
          "base_uri": "https://localhost:8080/"
        },
        "outputId": "41e7e7c7-d93e-4ff6-c471-bf81ecf15778"
      },
      "execution_count": 13,
      "outputs": [
        {
          "output_type": "stream",
          "name": "stdout",
          "text": [
            "Accuracy: 67.78%\n"
          ]
        }
      ]
    },
    {
      "cell_type": "code",
      "source": [
        "new_transform = transforms.Compose([\n",
        "    transforms.Resize((32, 32)),\n",
        "    transforms.ToTensor(),\n",
        "    transforms.Normalize((0.5, 0.5, 0.5), (0.5, 0.5, 0.5))\n",
        "])\n",
        "\n",
        "\n",
        "def load_image(image_path):\n",
        "  image = Image.open(image_path)\n",
        "  image = new_transform(image)\n",
        "  image = image.unsqueeze(0)\n",
        "  return image\n",
        "\n",
        "\n",
        "image_paths = ['image1.jpg', 'image2.jpg']\n",
        "images = [load_image(img) for img in image_paths]\n",
        "\n",
        "\n",
        "net.eval()\n",
        "with torch.no_grad():\n",
        "  for image in images:\n",
        "    output = net(image)\n",
        "    _, predicted = torch.max(output, 1)\n",
        "    print(f\"Prediction: {class_names[predicted.item()]}\")"
      ],
      "metadata": {
        "id": "z95Mg8neofi8",
        "colab": {
          "base_uri": "https://localhost:8080/"
        },
        "outputId": "433acd3e-f6f2-41b5-aaeb-bc17f106498b"
      },
      "execution_count": 15,
      "outputs": [
        {
          "output_type": "stream",
          "name": "stdout",
          "text": [
            "Prediction: dog\n",
            "Prediction: plane\n"
          ]
        }
      ]
    }
  ],
  "metadata": {
    "colab": {
      "provenance": [],
      "gpuType": "T4"
    },
    "kernelspec": {
      "display_name": "Python 3",
      "name": "python3"
    },
    "language_info": {
      "name": "python"
    },
    "accelerator": "GPU"
  },
  "nbformat": 4,
  "nbformat_minor": 0
}